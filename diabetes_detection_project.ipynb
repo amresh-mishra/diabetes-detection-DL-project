{
 "cells": [
  {
   "cell_type": "code",
   "execution_count": 1,
   "metadata": {
    "id": "Io_EOUhbbxdy"
   },
   "outputs": [],
   "source": [
    "from numpy import loadtxt \n",
    "import pandas as pd\n",
    "import tensorflow as tf \n",
    "from tensorflow import keras\n",
    "from keras import regularizers\n",
    "from keras.models import Sequential \n",
    "from keras.layers import Dense \n",
    "from keras import regularizers\n",
    "from keras.layers import BatchNormalization\n",
    "from keras.callbacks import EarlyStopping\n",
    "#from keras.layers import Dropout"
   ]
  },
  {
   "cell_type": "code",
   "execution_count": 2,
   "metadata": {
    "id": "lQCuljl_jnfX"
   },
   "outputs": [],
   "source": [
    "dataset = loadtxt ('pima-indians-diabetes.csv', delimiter=',')\n",
    "x=dataset[:,0:8]\n",
    "y=dataset[:,8]"
   ]
  },
  {
   "cell_type": "code",
   "execution_count": 3,
   "metadata": {
    "id": "7gRRpHdjbyPz"
   },
   "outputs": [],
   "source": [
    "#Scaling the dataset\n",
    "\n",
    "from sklearn.preprocessing import StandardScaler\n",
    "sc= StandardScaler()\n",
    "X=sc.fit_transform(x)"
   ]
  },
  {
   "cell_type": "code",
   "execution_count": 4,
   "metadata": {
    "id": "XRSNdzz6dhkZ"
   },
   "outputs": [],
   "source": [
    "from sklearn.model_selection import train_test_split\n",
    "X_train,X_test,y_train,y_test = train_test_split(X,y,test_size=20,random_state=1)"
   ]
  },
  {
   "cell_type": "code",
   "execution_count": 5,
   "metadata": {
    "id": "yYLuPYwLhfDj"
   },
   "outputs": [],
   "source": [
    "# Define early stopping callback\n",
    "early_stop = EarlyStopping(monitor='val_loss',min_delta=0.001,restore_best_weights=True, patience=10, verbose=1, mode='auto')"
   ]
  },
  {
   "cell_type": "code",
   "execution_count": 18,
   "metadata": {
    "id": "IkZJNAzDdkVj"
   },
   "outputs": [],
   "source": [
    "model = Sequential()\n",
    "model.add(Dense(16, input_dim=8, activation='relu')) # 12 neuron on first and 8 on second layer\n",
    "model.add(Dense(8, activation='relu',kernel_regularizer=regularizers.l2(0.01))) \n",
    "model.add(BatchNormalization())\n",
    "#model.add(Dropout(0.1))\n",
    "model.add(Dense(1, activation='sigmoid'))  # last layer showing person is diabitic or not "
   ]
  },
  {
   "cell_type": "code",
   "execution_count": 19,
   "metadata": {
    "id": "ArLnWOhtdkaO"
   },
   "outputs": [],
   "source": [
    "model.compile(loss='binary_crossentropy', optimizer='adam', metrics=['accuracy'])"
   ]
  },
  {
   "cell_type": "code",
   "execution_count": 20,
   "metadata": {
    "colab": {
     "base_uri": "https://localhost:8080/"
    },
    "id": "oBNskXJXhu1j",
    "outputId": "0b7e6e70-d010-48f7-d714-3a01b46967b3"
   },
   "outputs": [
    {
     "name": "stdout",
     "output_type": "stream",
     "text": [
      "Epoch 1/1000\n",
      "68/68 [==============================] - 1s 4ms/step - loss: 0.9522 - accuracy: 0.5082 - val_loss: 0.7848 - val_accuracy: 0.6133\n",
      "Epoch 2/1000\n",
      "68/68 [==============================] - 0s 2ms/step - loss: 0.7566 - accuracy: 0.6389 - val_loss: 0.6971 - val_accuracy: 0.7200\n",
      "Epoch 3/1000\n",
      "68/68 [==============================] - 0s 2ms/step - loss: 0.6634 - accuracy: 0.7236 - val_loss: 0.6284 - val_accuracy: 0.7467\n",
      "Epoch 4/1000\n",
      "68/68 [==============================] - 0s 2ms/step - loss: 0.6220 - accuracy: 0.7296 - val_loss: 0.5728 - val_accuracy: 0.7600\n",
      "Epoch 5/1000\n",
      "68/68 [==============================] - 0s 2ms/step - loss: 0.5903 - accuracy: 0.7325 - val_loss: 0.5469 - val_accuracy: 0.7867\n",
      "Epoch 6/1000\n",
      "68/68 [==============================] - 0s 2ms/step - loss: 0.5931 - accuracy: 0.7281 - val_loss: 0.5313 - val_accuracy: 0.7867\n",
      "Epoch 7/1000\n",
      "68/68 [==============================] - 0s 2ms/step - loss: 0.5795 - accuracy: 0.7474 - val_loss: 0.5229 - val_accuracy: 0.8000\n",
      "Epoch 8/1000\n",
      "68/68 [==============================] - 0s 2ms/step - loss: 0.5679 - accuracy: 0.7340 - val_loss: 0.5158 - val_accuracy: 0.8000\n",
      "Epoch 9/1000\n",
      "68/68 [==============================] - 0s 2ms/step - loss: 0.5389 - accuracy: 0.7608 - val_loss: 0.5096 - val_accuracy: 0.7867\n",
      "Epoch 10/1000\n",
      "68/68 [==============================] - 0s 2ms/step - loss: 0.5414 - accuracy: 0.7652 - val_loss: 0.5064 - val_accuracy: 0.7867\n",
      "Epoch 11/1000\n",
      "68/68 [==============================] - 0s 2ms/step - loss: 0.5480 - accuracy: 0.7563 - val_loss: 0.5059 - val_accuracy: 0.7733\n",
      "Epoch 12/1000\n",
      "68/68 [==============================] - 0s 2ms/step - loss: 0.5414 - accuracy: 0.7548 - val_loss: 0.5061 - val_accuracy: 0.7733\n",
      "Epoch 13/1000\n",
      "68/68 [==============================] - 0s 2ms/step - loss: 0.5147 - accuracy: 0.7697 - val_loss: 0.5082 - val_accuracy: 0.7600\n",
      "Epoch 14/1000\n",
      "68/68 [==============================] - 0s 2ms/step - loss: 0.5268 - accuracy: 0.7489 - val_loss: 0.5071 - val_accuracy: 0.7600\n",
      "Epoch 15/1000\n",
      "68/68 [==============================] - 0s 2ms/step - loss: 0.5307 - accuracy: 0.7548 - val_loss: 0.5107 - val_accuracy: 0.7600\n",
      "Epoch 16/1000\n",
      "68/68 [==============================] - 0s 2ms/step - loss: 0.5102 - accuracy: 0.7637 - val_loss: 0.5060 - val_accuracy: 0.7733\n",
      "Epoch 17/1000\n",
      "68/68 [==============================] - 0s 2ms/step - loss: 0.4988 - accuracy: 0.7771 - val_loss: 0.5137 - val_accuracy: 0.7600\n",
      "Epoch 18/1000\n",
      "68/68 [==============================] - 0s 2ms/step - loss: 0.5203 - accuracy: 0.7474 - val_loss: 0.4914 - val_accuracy: 0.7600\n",
      "Epoch 19/1000\n",
      "68/68 [==============================] - 0s 2ms/step - loss: 0.5211 - accuracy: 0.7682 - val_loss: 0.5114 - val_accuracy: 0.7467\n",
      "Epoch 20/1000\n",
      "68/68 [==============================] - 0s 2ms/step - loss: 0.5075 - accuracy: 0.7727 - val_loss: 0.5151 - val_accuracy: 0.7467\n",
      "Epoch 21/1000\n",
      "68/68 [==============================] - 0s 3ms/step - loss: 0.4981 - accuracy: 0.7608 - val_loss: 0.5123 - val_accuracy: 0.7467\n",
      "Epoch 22/1000\n",
      "68/68 [==============================] - 0s 3ms/step - loss: 0.5021 - accuracy: 0.7771 - val_loss: 0.5126 - val_accuracy: 0.7600\n",
      "Epoch 23/1000\n",
      "68/68 [==============================] - 0s 3ms/step - loss: 0.5020 - accuracy: 0.7637 - val_loss: 0.5233 - val_accuracy: 0.7333\n",
      "Epoch 24/1000\n",
      "68/68 [==============================] - 0s 3ms/step - loss: 0.4938 - accuracy: 0.7771 - val_loss: 0.5129 - val_accuracy: 0.7467\n",
      "Epoch 25/1000\n",
      "68/68 [==============================] - 0s 2ms/step - loss: 0.4738 - accuracy: 0.7652 - val_loss: 0.5070 - val_accuracy: 0.7600\n",
      "Epoch 26/1000\n",
      "68/68 [==============================] - 0s 2ms/step - loss: 0.4762 - accuracy: 0.7905 - val_loss: 0.5010 - val_accuracy: 0.7467\n",
      "Epoch 27/1000\n",
      "68/68 [==============================] - 0s 2ms/step - loss: 0.4902 - accuracy: 0.7712 - val_loss: 0.5048 - val_accuracy: 0.7600\n",
      "Epoch 28/1000\n",
      "65/68 [===========================>..] - ETA: 0s - loss: 0.4833 - accuracy: 0.7862Restoring model weights from the end of the best epoch: 18.\n",
      "68/68 [==============================] - 0s 2ms/step - loss: 0.4845 - accuracy: 0.7845 - val_loss: 0.5046 - val_accuracy: 0.7467\n",
      "Epoch 28: early stopping\n"
     ]
    }
   ],
   "source": [
    "history=model.fit(X_train,y_train, validation_split=0.1, epochs=1000,   batch_size= 10, callbacks=[early_stop])  # used early EarlyStopping"
   ]
  },
  {
   "cell_type": "code",
   "execution_count": 21,
   "metadata": {
    "colab": {
     "base_uri": "https://localhost:8080/"
    },
    "id": "BQDnhJ58hu5N",
    "outputId": "a5cd0a68-854c-4a99-b703-648709f5b949"
   },
   "outputs": [
    {
     "name": "stdout",
     "output_type": "stream",
     "text": [
      "1/1 [==============================] - 0s 23ms/step - loss: 0.4075 - accuracy: 0.8500\n",
      "Accuracy :  85.00\n"
     ]
    }
   ],
   "source": [
    "_, accuracy = model .evaluate(X_test, y_test) \n",
    "print (\"Accuracy : % .2f\" % (accuracy * 100))"
   ]
  },
  {
   "cell_type": "code",
   "execution_count": 22,
   "metadata": {
    "colab": {
     "base_uri": "https://localhost:8080/"
    },
    "id": "sRIMMJEUpwXQ",
    "outputId": "b8765775-ca91-49f0-be0f-2839e6dfb180"
   },
   "outputs": [
    {
     "name": "stdout",
     "output_type": "stream",
     "text": [
      "1/1 [==============================] - 0s 79ms/step\n",
      "2_AccuracyScore_Accuracy is: 80.0\n"
     ]
    }
   ],
   "source": [
    "from sklearn.metrics import accuracy_score\n",
    "import numpy as np\n",
    "y_pred = model.predict(X_test)\n",
    "pred = list()\n",
    "for i in range(len(y_pred)):\n",
    "    pred.append(np.argmax(y_pred[i]))\n",
    "\n",
    "test=y_test\n",
    "a = accuracy_score(pred,test)\n",
    "print('2_AccuracyScore_Accuracy is:', a*100)"
   ]
  },
  {
   "cell_type": "code",
   "execution_count": 23,
   "metadata": {
    "colab": {
     "base_uri": "https://localhost:8080/"
    },
    "id": "HXcFNa3Khu88",
    "outputId": "5c337157-253c-4807-b3b9-d772d53ed78b"
   },
   "outputs": [
    {
     "name": "stdout",
     "output_type": "stream",
     "text": [
      "1/1 [==============================] - 0s 22ms/step\n"
     ]
    }
   ],
   "source": [
    "predictions = (model.predict(X_test) > 0.5).astype(\"int32\")"
   ]
  },
  {
   "cell_type": "code",
   "execution_count": 24,
   "metadata": {
    "colab": {
     "base_uri": "https://localhost:8080/"
    },
    "id": "zxuBB3N0hvAN",
    "outputId": "04dcf9c6-d063-43f4-c309-d2a9e618277c"
   },
   "outputs": [
    {
     "name": "stdout",
     "output_type": "stream",
     "text": [
      "Predicted Class: 0 (Original Class: 0)\n",
      "Predicted Class: 1 (Original Class: 1)\n",
      "Predicted Class: 0 (Original Class: 0)\n",
      "Predicted Class: 0 (Original Class: 1)\n",
      "Predicted Class: 0 (Original Class: 1)\n",
      "Predicted Class: 0 (Original Class: 0)\n",
      "Predicted Class: 0 (Original Class: 1)\n",
      "Predicted Class: 1 (Original Class: 0)\n",
      "Predicted Class: 1 (Original Class: 1)\n",
      "Predicted Class: 0 (Original Class: 1)\n",
      "Predicted Class: 1 (Original Class: 1)\n",
      "Predicted Class: 0 (Original Class: 1)\n",
      "Predicted Class: 0 (Original Class: 1)\n",
      "Predicted Class: 0 (Original Class: 0)\n",
      "Predicted Class: 0 (Original Class: 1)\n"
     ]
    }
   ],
   "source": [
    "for i in range(5,20):\n",
    "\tprint('Predicted Class: %d (Original Class: %d)' % (predictions[i], y[i]))"
   ]
  },
  {
   "cell_type": "code",
   "execution_count": 25,
   "metadata": {
    "colab": {
     "base_uri": "https://localhost:8080/",
     "height": 573
    },
    "id": "UZC1FTL8h3zE",
    "outputId": "06a58daf-7841-4a2d-e0b4-3e2da7d5ce22"
   },
   "outputs": [
    {
     "data": {
      "image/png": "[encoded data removed]",
      "text/plain": [
       "<Figure size 432x288 with 1 Axes>"
      ]
     },
     "metadata": {
      "needs_background": "light"
     },
     "output_type": "display_data"
    },
    {
     "data": {
      "image/png": "[encoded data removed]",
      "text/plain": [
       "<Figure size 432x288 with 1 Axes>"
      ]
     },
     "metadata": {
      "needs_background": "light"
     },
     "output_type": "display_data"
    }
   ],
   "source": [
    "import matplotlib.pyplot as plt\n",
    "\n",
    "# Plot training & validation loss values\n",
    "plt.plot(history.history['loss'])\n",
    "plt.plot(history.history['val_loss'])\n",
    "plt.title('Model loss')\n",
    "plt.ylabel('Loss')\n",
    "plt.xlabel('Epoch')\n",
    "plt.legend(['Train', 'Validation'], loc='upper left')\n",
    "plt.show()\n",
    "\n",
    "# Plot training & validation accuracy values\n",
    "plt.plot(history.history['accuracy'])\n",
    "plt.plot(history.history['val_accuracy'])\n",
    "plt.title('Model accuracy')\n",
    "plt.ylabel('Accuracy')\n",
    "plt.xlabel('Epoch')\n",
    "plt.legend(['Train', 'Validation'], loc='upper left')\n",
    "plt.show()\n"
   ]
  },
  {
   "cell_type": "code",
   "execution_count": null,
   "metadata": {
    "id": "LsakONWvh38V"
   },
   "outputs": [],
   "source": []
  }
 ],
 "metadata": {
  "colab": {
   "provenance": []
  },
  "kernelspec": {
   "display_name": "Python 3 (ipykernel)",
   "language": "python",
   "name": "python3"
  },
  "language_info": {
   "codemirror_mode": {
    "name": "ipython",
    "version": 3
   },
   "file_extension": ".py",
   "mimetype": "text/x-python",
   "name": "python",
   "nbconvert_exporter": "python",
   "pygments_lexer": "ipython3",
   "version": "3.9.12"
  }
 },
 "nbformat": 4,
 "nbformat_minor": 1
}
